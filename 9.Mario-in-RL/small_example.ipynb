{
 "cells": [
  {
   "cell_type": "code",
   "execution_count": null,
   "metadata": {},
   "outputs": [],
   "source": [
    "import PIL\n",
    "import gym_super_mario_bros\n",
    "from gym_super_mario_bros.actions import COMPLEX_MOVEMENT\n",
    "from nes_py.wrappers import BinarySpaceToDiscreteSpaceEnv\n",
    "import random\n",
    "import time\n",
    "\n",
    "#All levels, starting at 1-1. With frameskip 4.\n",
    "env = gym_super_mario_bros.make('SuperMarioBros2-v0')\n",
    "#Else use SuperMarioBrosNoFrameskip-v0\n",
    "\n",
    "env = BinarySpaceToDiscreteSpaceEnv(env, COMPLEX_MOVEMENT)\n",
    "env.reset()\n",
    "\n",
    "policy = [0, 0, 0, 0.277, 0.723, 0, 0, 0, 0, 0, 0]\n",
    "def sample_action(pol):\n",
    "    r = random.random()\n",
    "    s = 0\n",
    "    a = -1\n",
    "    while s < r:\n",
    "        a += 1\n",
    "        s += pol[a]\n",
    "    return a\n",
    "\n",
    "theseed = 1 #Here is a fast seed I found\n",
    "random.seed(theseed)\n",
    "resets = 0\n",
    "while True:\n",
    "    observation,reward,done,info = env.step(sample_action(policy))\n",
    "    #This was added to show the last life before the bug in human speed\n",
    "    if resets==4 and info[\"life\"]==1:\n",
    "        time.sleep(1/15)\n",
    "    env.render(mode='human')\n",
    "    if done:\n",
    "        env.reset()\n",
    "        resets += 1\n",
    "        #Run at most 20 episodes on each given seed.\n",
    "        #If interrupted shortly after seeing the bug,\n",
    "        #starting from the last seed is likely to\n",
    "        #reproduce it fast. Although this is not 100%\n",
    "        #certain, it may be a good place to start.\n",
    "        if resets == 20:\n",
    "            theseed += 1\n",
    "            random.seed(theseed)\n",
    "            resets = 0\n",
    "env.close()"
   ]
  },
  {
   "cell_type": "code",
   "execution_count": 20,
   "metadata": {},
   "outputs": [],
   "source": [
    "import PIL\n",
    "import gym_super_mario_bros\n",
    "from gym_super_mario_bros.actions import COMPLEX_MOVEMENT\n",
    "from nes_py.wrappers import BinarySpaceToDiscreteSpaceEnv\n",
    "import random\n",
    "import time\n",
    "\n",
    "#All levels, starting at 1-1. With frameskip 4.\n",
    "env = gym_super_mario_bros.make('SuperMarioBros2-v0')\n",
    "#Else use SuperMarioBrosNoFrameskip-v0\n",
    "\n",
    "env = BinarySpaceToDiscreteSpaceEnv(env, COMPLEX_MOVEMENT)\n",
    "s = env.reset()"
   ]
  },
  {
   "cell_type": "code",
   "execution_count": 21,
   "metadata": {},
   "outputs": [
    {
     "data": {
      "text/plain": [
       "(240, 256, 3)"
      ]
     },
     "execution_count": 21,
     "metadata": {},
     "output_type": "execute_result"
    }
   ],
   "source": [
    "env.observation_space.shape"
   ]
  },
  {
   "cell_type": "code",
   "execution_count": 22,
   "metadata": {},
   "outputs": [
    {
     "data": {
      "text/plain": [
       "12"
      ]
     },
     "execution_count": 22,
     "metadata": {},
     "output_type": "execute_result"
    }
   ],
   "source": [
    "env.action_space.n"
   ]
  },
  {
   "cell_type": "code",
   "execution_count": 23,
   "metadata": {},
   "outputs": [
    {
     "data": {
      "text/plain": [
       "<matplotlib.image.AxesImage at 0x11b292898>"
      ]
     },
     "execution_count": 23,
     "metadata": {},
     "output_type": "execute_result"
    },
    {
     "data": {
      "image/png": "[encoded data removed]",
      "text/plain": [
       "<Figure size 432x288 with 1 Axes>"
      ]
     },
     "metadata": {},
     "output_type": "display_data"
    }
   ],
   "source": [
    "import matplotlib.pyplot as plt\n",
    "%matplotlib inline\n",
    "plt.imshow(env.render('rgb_array'))"
   ]
  },
  {
   "cell_type": "code",
   "execution_count": 24,
   "metadata": {},
   "outputs": [
    {
     "name": "stdout",
     "output_type": "stream",
     "text": [
      "Observation shape: (42, 42, 4)\n",
      "Num actions: 12\n"
     ]
    }
   ],
   "source": [
    "from atari_util import PreprocessAtari\n",
    "\n",
    "def make_env(env):\n",
    "    env = PreprocessAtari(env, height=42, width=42,\n",
    "                          crop = lambda img: img[60:-30, 5:],\n",
    "                          dim_order = 'tensorflow',\n",
    "                          color=False, n_frames=4,\n",
    "                          reward_scale = 0.01)\n",
    "    return env\n",
    "\n",
    "env = make_env(env)\n",
    "obs_shape = env.observation_space.shape\n",
    "n_actions = env.action_space.n\n",
    "\n",
    "print(\"Observation shape:\", obs_shape)\n",
    "print(\"Num actions:\", n_actions)"
   ]
  },
  {
   "cell_type": "code",
   "execution_count": 25,
   "metadata": {},
   "outputs": [
    {
     "name": "stdout",
     "output_type": "stream",
     "text": [
      "(42, 42, 4)\n"
     ]
    }
   ],
   "source": [
    "s = env.reset()\n",
    "for _ in range(100):\n",
    "    s, _, _, _ = env.step(env.action_space.sample())"
   ]
  },
  {
   "cell_type": "code",
   "execution_count": 13,
   "metadata": {},
   "outputs": [
    {
     "data": {
      "text/plain": [
       "<matplotlib.image.AxesImage at 0x11e25ab00>"
      ]
     },
     "execution_count": 13,
     "metadata": {},
     "output_type": "execute_result"
    },
    {
     "data": {
      "image/png": "[encoded data removed]",
      "text/plain": [
       "<Figure size 432x288 with 1 Axes>"
      ]
     },
     "metadata": {},
     "output_type": "display_data"
    }
   ],
   "source": [
    "plt.imshow(s.transpose([0,2,1]).reshape([42,-1]))"
   ]
  },
  {
   "cell_type": "code",
   "execution_count": null,
   "metadata": {},
   "outputs": [],
   "source": []
  }
 ],
 "metadata": {
  "kernelspec": {
   "display_name": "Python 3",
   "language": "python",
   "name": "python3"
  },
  "language_info": {
   "codemirror_mode": {
    "name": "ipython",
    "version": 3
   },
   "file_extension": ".py",
   "mimetype": "text/x-python",
   "name": "python",
   "nbconvert_exporter": "python",
   "pygments_lexer": "ipython3",
   "version": "3.6.5"
  }
 },
 "nbformat": 4,
 "nbformat_minor": 2
}
