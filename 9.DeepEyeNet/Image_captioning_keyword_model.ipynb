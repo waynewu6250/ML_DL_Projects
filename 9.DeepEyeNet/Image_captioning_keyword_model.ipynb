{
 "cells": [
  {
   "cell_type": "markdown",
   "metadata": {},
   "source": [
    "# DeepEyeNet-Image Captioning with key word reinforced\n",
    "\n",
    "## Keyword Model Part"
   ]
  },
  {
   "cell_type": "code",
   "execution_count": 1,
   "metadata": {},
   "outputs": [
    {
     "name": "stderr",
     "output_type": "stream",
     "text": [
      "Using TensorFlow backend.\n"
     ]
    }
   ],
   "source": [
    "import numpy as np\n",
    "import pandas as pd\n",
    "from PIL import Image\n",
    "import matplotlib.pyplot as plt\n",
    "%matplotlib inline\n",
    "\n",
    "import glob\n",
    "import json\n",
    "import os\n",
    "import re\n",
    "import pickle\n",
    "from tqdm import tqdm\n",
    "from collections import defaultdict\n",
    "import nltk\n",
    "import h5py\n",
    "import warnings\n",
    "warnings.filterwarnings('ignore')\n",
    "from nltk.translate.bleu_score import sentence_bleu\n",
    "\n",
    "from keras.preprocessing import sequence, image\n",
    "from keras.models import Sequential, Model, Input\n",
    "from keras.layers import LSTM, Embedding, Concatenate, TimeDistributed, Dense, RepeatVector, Activation, Flatten, Add, Lambda, Dot\n",
    "from keras.layers.wrappers import Bidirectional\n",
    "from keras.optimizers import Adam, RMSprop\n",
    "import keras.backend as K\n",
    "from keras.models import load_model\n",
    "import h5py\n",
    "\n",
    "from model.model import CaptionModel\n",
    "from model.model_k import AttentionModel, EncoderModel, MeanModel\n",
    "from utils import *\n",
    "from eval_tools import Cider, Rouge"
   ]
  },
  {
   "cell_type": "markdown",
   "metadata": {},
   "source": [
    "# Load Data"
   ]
  },
  {
   "cell_type": "code",
   "execution_count": 2,
   "metadata": {},
   "outputs": [],
   "source": [
    "# train_imgs, val_imgs, test_imgs\n",
    "train_imgs = load_pickle('./data/data_path/train_imgs.pkl')\n",
    "val_imgs = load_pickle('./data/data_path/val_imgs.pkl')\n",
    "test_imgs = load_pickle('./data/data_path/test_imgs.pkl')\n",
    "\n",
    "# Load pretrained img features\n",
    "# vgg (224, 4096), vgg19 (224, 4096), inceptionV3 (299, 2048), resnet50 (224, 2048)\n",
    "select_model = 'vgg'\n",
    "img_size = 224\n",
    "feat_size = 4096\n",
    "train_imgs_features = load_pickle('./data/img_features/train_imgs_features_{}_sub.pkl'.format(select_model))\n",
    "val_imgs_features = load_pickle('./data/img_features/val_imgs_features_{}_sub.pkl'.format(select_model))\n",
    "test_imgs_features = load_pickle('./data/img_features/test_imgs_features_{}_sub.pkl'.format(select_model))\n",
    "\n",
    "# Important features\n",
    "results = load_pickle('./data/data_path/results.pkl')\n",
    "keyword_results_path = 'results/results_keywords.pkl'\n",
    "\n",
    "# Model Path\n",
    "attention_path = './checkpoints/model_{}_new_keywords_attention.h5'.format(select_model)\n",
    "encoder_path = './checkpoints/model_{}_new_keywords_encoder.h5'.format(select_model)\n",
    "mean_path = './checkpoints/model_{}_new_keywords_mean.h5'.format(select_model)\n",
    "\n",
    "# Model Name\n",
    "model_names = ['attention', 'encoder', 'mean']\n",
    "seq = ('test_gts_list', 'test_res_list', 'test_avgscore_list')"
   ]
  },
  {
   "cell_type": "code",
   "execution_count": 3,
   "metadata": {},
   "outputs": [],
   "source": [
    "names = results[\"name\"]\n",
    "keywords = results[\"keywords\"]\n",
    "descriptions = results[\"descriptions\"]\n",
    "cap_toks = results[\"cap_toks\"]\n",
    "cap_ids = results[\"cap_ids\"]\n",
    "word2id = results[\"word2id\"]\n",
    "id2word = results[\"id2word\"]\n",
    "word2id_keys = results[\"word2id_keys\"]\n",
    "keywords_ids = results[\"keywords_ids\"]"
   ]
  },
  {
   "cell_type": "code",
   "execution_count": 4,
   "metadata": {},
   "outputs": [],
   "source": [
    "# Parameters\n",
    "vocab_size = len(word2id)\n",
    "max_len = max([len(x) for x in cap_toks.values()])\n",
    "embedding_size = 300\n",
    "new_vocab_size = len(word2id_keys)\n",
    "key_max_len = max([len(x) for x in keywords_ids.values()])\n",
    "steps_per_epoch = sum([len(cap_toks[img])-1 for img in train_imgs])\n",
    "\n",
    "param = {}\n",
    "param[\"key_max_len\"] = key_max_len\n",
    "param[\"keywords_ids\"] = results['keywords_ids']\n",
    "param[\"embedding_size\"] = embedding_size\n",
    "param[\"vocab_size\"] = new_vocab_size\n",
    "param[\"max_len\"] = max_len\n",
    "param[\"word2id\"] = results[\"word2id\"]\n",
    "param[\"id2word\"] = results[\"id2word\"]\n",
    "dic = load_pickle(keyword_results_path)"
   ]
  },
  {
   "cell_type": "code",
   "execution_count": 5,
   "metadata": {},
   "outputs": [],
   "source": [
    "# 1. First approach: image-driven attention model for keyword embedding\n",
    "model_obj_a = AttentionModel(param, feat_size)\n",
    "final_model_a = model_obj_a.forward()\n",
    "\n",
    "# 2. RNN-Encoder for keyword embedding\n",
    "model_obj_r = EncoderModel(param, feat_size)\n",
    "final_model_r = model_obj_r.forward()\n",
    "\n",
    "# 3. RNN-Encoder for keyword embedding\n",
    "model_obj_k = MeanModel(param, feat_size)\n",
    "final_model_k = model_obj_k.forward()"
   ]
  },
  {
   "cell_type": "markdown",
   "metadata": {},
   "source": [
    "# Build the New Keyword Model\n",
    "\n",
    "Here we would like to build some new keyword embedded model to test the performances."
   ]
  },
  {
   "cell_type": "code",
   "execution_count": 6,
   "metadata": {},
   "outputs": [],
   "source": [
    "# Load Glove vectors\n",
    "embeddings_index = {}\n",
    "with open('./word_embedding/glove.6B.300d.txt', encoding=\"utf-8\") as f:\n",
    "    for line in f:\n",
    "        values = line.split()\n",
    "        word = values[0]\n",
    "        coefs = np.asarray(values[1:], dtype='float32')\n",
    "        embeddings_index[word] = coefs\n",
    "# Get 200-dim dense vector\n",
    "embedding_matrix = np.zeros((vocab_size, embedding_size))\n",
    "for word, i in word2id.items():\n",
    "    #if i < max_words:\n",
    "    embedding_vector = embeddings_index.get(word)\n",
    "    if embedding_vector is not None:\n",
    "        # Words not found in the embedding index will be all zeros\n",
    "        embedding_matrix[i] = embedding_vector\n",
    "save_pickle(embedding_matrix, './data/data_path/embeddings.pkl')"
   ]
  },
  {
   "cell_type": "markdown",
   "metadata": {},
   "source": [
    "## Training"
   ]
  },
  {
   "cell_type": "code",
   "execution_count": 9,
   "metadata": {},
   "outputs": [],
   "source": [
    "def train(model_obj, model, model_path, load=True):\n",
    "    if load and os.path.exists(model_path):\n",
    "        model = load_model(model_path)\n",
    "        return model\n",
    "    model.compile(loss='categorical_crossentropy', optimizer=RMSprop(), metrics=['accuracy'])\n",
    "    model.fit_generator(model_obj.data_generator_k(train_imgs_features, train_imgs, cap_ids, batch_size = 64), \n",
    "                        steps_per_epoch=steps_per_epoch, epochs=1)\n",
    "    model.save(model_path)\n",
    "    \n",
    "    return model"
   ]
  },
  {
   "cell_type": "markdown",
   "metadata": {},
   "source": [
    "## 1. Attention Model"
   ]
  },
  {
   "cell_type": "code",
   "execution_count": 13,
   "metadata": {},
   "outputs": [
    {
     "name": "stdout",
     "output_type": "stream",
     "text": [
      "Epoch 1/1\n",
      "16869/16869 [==============================] - 2441s 145ms/step - loss: 1.7947 - acc: 0.5819\n"
     ]
    }
   ],
   "source": [
    "final_model_a = train(model_obj_a, final_model_a, attention_path)"
   ]
  },
  {
   "cell_type": "code",
   "execution_count": 8,
   "metadata": {},
   "outputs": [
    {
     "name": "stdout",
     "output_type": "stream",
     "text": [
      "Epoch 1/1\n",
      "16869/16869 [==============================] - 2409s 143ms/step - loss: 0.5904 - acc: 0.8459\n"
     ]
    }
   ],
   "source": [
    "final_model_a = train(model_obj_a, final_model_a, attention_path)"
   ]
  },
  {
   "cell_type": "code",
   "execution_count": 11,
   "metadata": {},
   "outputs": [
    {
     "name": "stdout",
     "output_type": "stream",
     "text": [
      "Epoch 1/1\n",
      "16869/16869 [==============================] - 2518s 149ms/step - loss: 0.3439 - acc: 0.9085\n"
     ]
    }
   ],
   "source": [
    "final_model_a = train(model_obj_a, final_model_a, attention_path)"
   ]
  },
  {
   "cell_type": "code",
   "execution_count": 23,
   "metadata": {},
   "outputs": [],
   "source": [
    "final_model_a.save(attention_path)"
   ]
  },
  {
   "cell_type": "markdown",
   "metadata": {},
   "source": [
    "## 2. Encoder Model"
   ]
  },
  {
   "cell_type": "code",
   "execution_count": 16,
   "metadata": {},
   "outputs": [
    {
     "name": "stdout",
     "output_type": "stream",
     "text": [
      "Epoch 1/1\n",
      "16869/16869 [==============================] - 2698s 160ms/step - loss: 0.9606 - acc: 0.7776\n"
     ]
    }
   ],
   "source": [
    "final_model_r = train(model_obj_r, final_model_r, encoder_path)"
   ]
  },
  {
   "cell_type": "code",
   "execution_count": 10,
   "metadata": {},
   "outputs": [
    {
     "name": "stdout",
     "output_type": "stream",
     "text": [
      "Epoch 1/1\n",
      "16869/16869 [==============================] - 2691s 160ms/step - loss: 0.2899 - acc: 0.9210\n"
     ]
    }
   ],
   "source": [
    "final_model_r = train(model_obj_r, final_model_r,encoder_path)"
   ]
  },
  {
   "cell_type": "code",
   "execution_count": 10,
   "metadata": {},
   "outputs": [
    {
     "name": "stdout",
     "output_type": "stream",
     "text": [
      "Epoch 1/1\n",
      "16869/16869 [==============================] - 2685s 159ms/step - loss: 0.2245 - acc: 0.9375\n"
     ]
    }
   ],
   "source": [
    "final_model_r = train(model_obj_r, final_model_r,encoder_path)"
   ]
  },
  {
   "cell_type": "code",
   "execution_count": 13,
   "metadata": {},
   "outputs": [],
   "source": [
    "final_model_r.save(encoder_path)"
   ]
  },
  {
   "cell_type": "markdown",
   "metadata": {},
   "source": [
    "## 3. Mean Model"
   ]
  },
  {
   "cell_type": "code",
   "execution_count": 14,
   "metadata": {},
   "outputs": [
    {
     "name": "stdout",
     "output_type": "stream",
     "text": [
      "Epoch 1/1\n",
      "16869/16869 [==============================] - 2420s 143ms/step - loss: 0.7531 - acc: 0.8055\n"
     ]
    }
   ],
   "source": [
    "final_model_k = train(model_obj_k, final_model_k, mean_path)"
   ]
  },
  {
   "cell_type": "code",
   "execution_count": 14,
   "metadata": {},
   "outputs": [
    {
     "name": "stdout",
     "output_type": "stream",
     "text": [
      "Epoch 1/1\n",
      "16869/16869 [==============================] - 2425s 144ms/step - loss: 0.4872 - acc: 0.8756\n"
     ]
    }
   ],
   "source": [
    "final_model_k = train(model_obj_k, final_model_k, mean_path)"
   ]
  },
  {
   "cell_type": "code",
   "execution_count": 15,
   "metadata": {},
   "outputs": [],
   "source": [
    "final_model_k.save(mean_path)"
   ]
  },
  {
   "cell_type": "markdown",
   "metadata": {},
   "source": [
    "# Evaluation"
   ]
  },
  {
   "cell_type": "code",
   "execution_count": null,
   "metadata": {},
   "outputs": [],
   "source": [
    "model_objs = [model_obj_a, model_obj_r, model_obj_k]\n",
    "models = [final_model_a, final_model_r, final_model_k]\n",
    "dic = {}.fromkeys(seq, list())"
   ]
  },
  {
   "cell_type": "code",
   "execution_count": 8,
   "metadata": {},
   "outputs": [
    {
     "name": "stderr",
     "output_type": "stream",
     "text": [
      "196it [02:11,  1.49it/s]\n",
      "196it [03:24,  1.04s/it]\n",
      "196it [04:26,  1.36s/it]\n"
     ]
    }
   ],
   "source": [
    "for model_obj, model, name in zip(model_objs, models, model_names):\n",
    "    test_gts, test_res, test_avgscore = predict_captions(test_imgs, \n",
    "                                                         test_imgs_features, \n",
    "                                                         model, \n",
    "                                                         model_obj, \n",
    "                                                         results, 1, 0)\n",
    "    dic['test_gts_list'] = dic['test_gts_list'] + [test_gts]\n",
    "    dic['test_res_list'] = dic['test_res_list'] + [test_res]\n",
    "    dic['test_avgscore_list'] = dic['test_avgscore_list'] + [test_avgscore]"
   ]
  },
  {
   "cell_type": "code",
   "execution_count": 9,
   "metadata": {},
   "outputs": [],
   "source": [
    "save_pickle(dic, keyword_results_path)"
   ]
  },
  {
   "cell_type": "markdown",
   "metadata": {},
   "source": [
    "## A. BLEU Score"
   ]
  },
  {
   "cell_type": "code",
   "execution_count": 11,
   "metadata": {},
   "outputs": [
    {
     "name": "stdout",
     "output_type": "stream",
     "text": [
      "-----------------\n",
      "Average Bleu-0 score for attention model with test imgs: 0.6740\n",
      "Average Bleu-1 score for attention model with test imgs: 0.5579\n",
      "Average Bleu-2 score for attention model with test imgs: 0.4094\n",
      "Average Bleu-3 score for attention model with test imgs: 0.3661\n",
      "-----------------\n",
      "Average Bleu-0 score for encoder model with test imgs: 0.5947\n",
      "Average Bleu-1 score for encoder model with test imgs: 0.4859\n",
      "Average Bleu-2 score for encoder model with test imgs: 0.3463\n",
      "Average Bleu-3 score for encoder model with test imgs: 0.3105\n",
      "-----------------\n",
      "Average Bleu-0 score for mean model with test imgs: 0.6187\n",
      "Average Bleu-1 score for mean model with test imgs: 0.5021\n",
      "Average Bleu-2 score for mean model with test imgs: 0.3607\n",
      "Average Bleu-3 score for mean model with test imgs: 0.3124\n",
      "-----------------\n"
     ]
    }
   ],
   "source": [
    "print('-----------------')\n",
    "for i in range(4):\n",
    "    print(\"Average Bleu-{} score for attention model with test imgs: {:.4f}\".format(i,dic['test_avgscore_list'][0][i]))\n",
    "print('-----------------')\n",
    "for i in range(4):\n",
    "    print(\"Average Bleu-{} score for encoder model with test imgs: {:.4f}\".format(i,dic['test_avgscore_list'][1][i]))\n",
    "print('-----------------')\n",
    "for i in range(4):\n",
    "    print(\"Average Bleu-{} score for mean model with test imgs: {:.4f}\".format(i,dic['test_avgscore_list'][2][i]))\n",
    "print('-----------------')"
   ]
  },
  {
   "cell_type": "markdown",
   "metadata": {},
   "source": [
    "### Single Example"
   ]
  },
  {
   "cell_type": "code",
   "execution_count": 22,
   "metadata": {},
   "outputs": [
    {
     "name": "stdout",
     "output_type": "stream",
     "text": [
      "model:  attention\n",
      "Predicted Caption: ischemic central retinal vein occlusion.\n",
      "Ground Truth Caption: ischemic central retinal vein occlusion.\n",
      "Bleu Score 1: 1.0\n",
      "Bleu Score 2: 1.0\n",
      "Bleu Score 3: 1.0\n",
      "Bleu Score 4: 1.0\n",
      "model:  encoder\n",
      "Predicted Caption: ischemic central retinal vein occlusion.\n",
      "Ground Truth Caption: ischemic central retinal vein occlusion.\n",
      "Bleu Score 1: 1.0\n",
      "Bleu Score 2: 1.0\n",
      "Bleu Score 3: 1.0\n",
      "Bleu Score 4: 1.0\n",
      "model:  mean\n",
      "Predicted Caption: ischemic central retinal vein occlusion.\n",
      "Ground Truth Caption: ischemic central retinal vein occlusion.\n",
      "Bleu Score 1: 1.0\n",
      "Bleu Score 2: 1.0\n",
      "Bleu Score 3: 1.0\n",
      "Bleu Score 4: 1.0\n"
     ]
    },
    {
     "data": {
      "text/plain": [
       "<matplotlib.image.AxesImage at 0x1a45794048>"
      ]
     },
     "execution_count": 22,
     "metadata": {},
     "output_type": "execute_result"
    },
    {
     "data": {
      "image/png": "[encoded data removed]",
      "text/plain": [
       "<Figure size 432x288 with 1 Axes>"
      ]
     },
     "metadata": {},
     "output_type": "display_data"
    }
   ],
   "source": [
    "img_id = 142\n",
    "\n",
    "for model_obj, model, name in zip(model_objs, models, names):\n",
    "    print(\"\\nmodel: \", name)\n",
    "    im = predict_caption_bleu(img_id, train_imgs, train_imgs_features, model, model_obj, results, 1, 0)\n",
    "\n",
    "plt.imshow(im)"
   ]
  },
  {
   "cell_type": "markdown",
   "metadata": {},
   "source": [
    "## B. CIDEr, Rouge"
   ]
  },
  {
   "cell_type": "code",
   "execution_count": 5,
   "metadata": {},
   "outputs": [
    {
     "name": "stdout",
     "output_type": "stream",
     "text": [
      "\n",
      "-----------------------------\n",
      "Evaluation:  cider\n",
      "-----------------------------\n",
      "attention:\n",
      "test attention score = 3.9594\n",
      "-----------------------------\n",
      "encoder:\n",
      "test encoder score = 3.2441\n",
      "-----------------------------\n",
      "mean:\n",
      "test mean score = 3.4051\n",
      "\n",
      "-----------------------------\n",
      "Evaluation:  rouge\n",
      "-----------------------------\n",
      "attention:\n",
      "test attention score = 0.6950\n",
      "-----------------------------\n",
      "encoder:\n",
      "test encoder score = 0.6382\n",
      "-----------------------------\n",
      "mean:\n",
      "test mean score = 0.6508\n"
     ]
    }
   ],
   "source": [
    "calc_scores_k(Cider(), 'cider', model_names, dic)\n",
    "calc_scores_k(Rouge(), 'rouge', model_names, dic)"
   ]
  },
  {
   "cell_type": "code",
   "execution_count": null,
   "metadata": {},
   "outputs": [],
   "source": []
  }
 ],
 "metadata": {
  "kernelspec": {
   "display_name": "Python 3",
   "language": "python",
   "name": "python3"
  },
  "language_info": {
   "codemirror_mode": {
    "name": "ipython",
    "version": 3
   },
   "file_extension": ".py",
   "mimetype": "text/x-python",
   "name": "python",
   "nbconvert_exporter": "python",
   "pygments_lexer": "ipython3",
   "version": "3.6.5"
  }
 },
 "nbformat": 4,
 "nbformat_minor": 2
}
